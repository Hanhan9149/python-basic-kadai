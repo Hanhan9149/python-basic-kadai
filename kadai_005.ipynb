{
  "nbformat": 4,
  "nbformat_minor": 0,
  "metadata": {
    "colab": {
      "provenance": [],
      "gpuType": "T4"
    },
    "kernelspec": {
      "name": "python3",
      "display_name": "Python 3"
    },
    "language_info": {
      "name": "python"
    }
  },
  "cells": [
    {
      "cell_type": "code",
      "source": [
        "#上辺：10cm\n",
        "#下辺：20cm\n",
        "#高さ：5cm\n",
        "\n",
        "#公式：台形の面積 =（上辺＋下辺）× 高さ ÷ 2\n",
        "\n",
        "topside = 10\n",
        "bottomside = 20\n",
        "height = 5\n",
        "areaoftrapezoid = (topside + bottomside) * height / 2\n",
        "\n",
        "print(f\"{areaoftrapezoid}cm²\")"
      ],
      "metadata": {
        "colab": {
          "base_uri": "https://localhost:8080/"
        },
        "id": "YkB5mhj7ByJR",
        "outputId": "3b6939f0-f61e-4a09-ac50-f83cfd1e50e9"
      },
      "execution_count": 6,
      "outputs": [
        {
          "output_type": "stream",
          "name": "stdout",
          "text": [
            "75.0cm²\n"
          ]
        }
      ]
    }
  ]
}